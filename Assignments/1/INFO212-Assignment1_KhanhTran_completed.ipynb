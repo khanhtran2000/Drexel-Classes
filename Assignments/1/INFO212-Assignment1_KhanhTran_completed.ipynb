{
 "cells": [
  {
   "cell_type": "markdown",
   "metadata": {},
   "source": [
    "<h1 style=\"text-align:center\"> Drexel University </h1>\n",
    "<h2 style = \"text-align:center\"> College of Computing and Informatics</h2>\n",
    "<h2 style = \"text-align:center\">INFO 212: Data Science Programming I</h2>\n",
    "<h3 style = \"text-align:center\">Assignment 1</h3>\n",
    "<div style=\"text-align:center; border-style:solid; padding: 10px\">\n",
    "<div style=\"font-weight:bold\">Due Date: Sunday, April 19, 2020</div>\n",
    "This assignment counts for 10% of the final grade\n",
    "</div>\n",
    "\n",
    "<h3 style=\"color:red; font-weight:bold; text-decoration: underline\">DON'T FORGET TO PUT YOUR NAME BELOW</h3>\n",
    "\n",
    "### NAME: KHANH TRAN\n",
    "\n",
    "\n",
    "### A. Assignment Overview\n",
    "This assignment provides the opportunity for you to practice with Python basics. \n",
    "\n",
    "### B. What to Hand In\n",
    "\t\n",
    "Sumbit a completed this Jupyter notebook. \n",
    "\n",
    "### C. How to Hand In\n",
    "\n",
    "Submit your Jupyter notebook file through the course website in the Blackboard Learn system.\n",
    "\n",
    "### D. When to Hand In\n",
    "\n",
    "1. Submit your assignment no later than 11:59pm in the due date.\n",
    "2. There will be a 10% (absolute value) deduction for each day of lateness, to a maximum of 3 days; assignments will not be accepted beyond that point. Missing work will earn a zero grade.\n",
    "\n",
    "### E. Written Presentation Requirements (if applicable)\n",
    "Images must be clear and legible. Assignments will be judged on the basis of visual appearance, grammatical correctness, and quality of writing, as well as their contents. Please make sure that the text of your assignments is well-structured, using paragraphs, full sentences, and other features of well-written presentation.\n",
    "\n",
    "### F. Marking Schemes:\n",
    "\n",
    "Marking assignments will be based on several aspects: presentation, correctness and coding styles. \n",
    "\n",
    "For programming questions, 10% of the mark will be judged on the coding style. \n",
    "\n",
    "The following is a set of guidelines for the coding style in this course:\n",
    "1. Write a good comment for each variable, each method, each control branch, and each loop.\n",
    "2. Use appropriate indentations to indicate control flows and blocks of code. \n",
    "3. Your method comments must mention the purpose of each parameter, and must be grammatically correct. \n",
    "4. Each line must be less than 80 characters long including tabs and spaces. \n",
    "5. Put a blank space before and after every operator. \n",
    "6. When breaking up a long line, break it before an operator, not after. \n",
    "\n",
    "### G. Answer the following questions"
   ]
  },
  {
   "cell_type": "markdown",
   "metadata": {},
   "source": [
    "#### Question 1:\n",
    "Write a Python function `convert_to_unique_chars(s)` that converts a string to a list of unique characters. The order of the unique characters should be the original order of their first appearances in the given string. \n",
    "\n",
    "For example, for the string `s=\"hello world\"`, the function should create the list `['h', 'e', 'l', 'o', ' ', 'w', 'r', 'd']`\n",
    "\n",
    "Test your function on some strings. Think about all kinds of strings, including empty string, all blanks, etc."
   ]
  },
  {
   "cell_type": "code",
   "execution_count": 2,
   "metadata": {},
   "outputs": [],
   "source": [
    "# Write your code below\n",
    "def convert_to_unique_chars(s):\n",
    "    \"\"\"\n",
    "    Input:\n",
    "        s: a string\n",
    "    Output:\n",
    "        chars: a list of unique characters in the input string\n",
    "    \"\"\"\n",
    "    s_list = list(s) # Use list() to convert s to a list of characters\n",
    "    chars = [] # Create a blank list\n",
    "    \n",
    "    for word in s_list: # Create a for loop that iterates through s_list\n",
    "        if word not in result: # Make sure the elements are unique\n",
    "            chars.append(word) # Append unique elements in s_list to result \n",
    "            \n",
    "    return chars # return final list"
   ]
  },
  {
   "cell_type": "markdown",
   "metadata": {},
   "source": [
    "#### Question 2:\n",
    "Write a Python function `test_ten_percent(a, b)` that prints `True` if the variable $a$ is within $10\\%$ of the variable $b$ and `False` otherwise. Test your program on some pairs of numbers. Explain your implementation of \"ten percent of variable $b$\" in comments. "
   ]
  },
  {
   "cell_type": "code",
   "execution_count": 30,
   "metadata": {
    "collapsed": true,
    "jupyter": {
     "outputs_hidden": true
    }
   },
   "outputs": [],
   "source": [
    "# Write your code below\n",
    "def test_ten_percent(a, b):\n",
    "    \"\"\"\n",
    "    Input:\n",
    "        a: a number\n",
    "        b: a number\n",
    "    Output:\n",
    "        True: if a is within 10% of b\n",
    "        False: otherwise\n",
    "    \"\"\"\n",
    "    if (b/10) >= a > 0: # If a is less than 1/10th of b and larger than 0\n",
    "        print('True') # print True\n",
    "    else: # otherwise\n",
    "        print('False') # print False\n",
    " "
   ]
  },
  {
   "cell_type": "markdown",
   "metadata": {},
   "source": [
    "#### Qestion 3:\n",
    "Write a Python function `build_map(list1, list2)` which takes two lists as input and creates a map which uses the first list as the keys and second list as the values. Think about all kinds of input.\n",
    "\n",
    "For example, given two lists:\n",
    "\n",
    "`ls1 = [2,5,8]`\n",
    "\n",
    "`ls2 = ['we', 'me', 'he']`\n",
    "\n",
    "The function returns a map:\n",
    "\n",
    "`m = {2:'we', 5:'me', 8:'he']`"
   ]
  },
  {
   "cell_type": "code",
   "execution_count": 26,
   "metadata": {
    "collapsed": true,
    "jupyter": {
     "outputs_hidden": true
    }
   },
   "outputs": [],
   "source": [
    "def build_map(l1, l2):\n",
    "    \"\"\"\n",
    "    Build a map from the two given lists.\n",
    "    \n",
    "    Input:\n",
    "        l1: a list of keys\n",
    "        l2: a list of values\n",
    "    Output:\n",
    "        m: a map from the keys to values. If there are fewer values than keys, \n",
    "        map keys to None\n",
    "    \"\"\"\n",
    "    if len(l1) == len(l2): # If l1 and l2 has the same numbers of values\n",
    "        # Using zip to map l2 values to l1, then convert it to a dictionary using dict()\n",
    "        m = dict(zip(l1, l2)) \n",
    "    if len(l1) > len(l2): # If l1 has more values than l2\n",
    "        while len(l1) > len(l2): # The loop keeps adding None until l1 and l2 has the same number of values\n",
    "            l2.append(None)\n",
    "        m = dict(zip(l1, l2))\n",
    "    \n",
    "    return m # return final map\n",
    "\n"
   ]
  },
  {
   "cell_type": "markdown",
   "metadata": {},
   "source": [
    "#### Question 4: \n",
    "Write a Python function `count_lines(fname)` which counts the number of lines in a text file. Download the given `train.csv` file and test the function on the file `train.csv`. A line in a text file is identified by ending with a newline symbol. Empty lines are lines too."
   ]
  },
  {
   "cell_type": "code",
   "execution_count": 8,
   "metadata": {
    "jupyter": {
     "outputs_hidden": true
    }
   },
   "outputs": [
    {
     "name": "stdout",
     "output_type": "stream",
     "text": [
      "892\n"
     ]
    }
   ],
   "source": [
    "def count_lines(fname):\n",
    "    \"\"\"\n",
    "    Count the number of lines in a text file\n",
    "    Input:\n",
    "        fname: the path/name to a text file. Your code should take care of the case\n",
    "        if the file doesn't exist.\n",
    "    Output:\n",
    "        numOfLines: the number of lines in the input text file\n",
    "    \"\"\"\n",
    "    # Create a try-except to raise a warning in case the file doesn't exist\n",
    "    try:\n",
    "        numOfLines = len(open(fname).readlines()) \n",
    "        # Open file using open() function\n",
    "        # Use .readlines() method to retrive a list of all lines in the file\n",
    "        # Use len() function to count the elements in the list\n",
    "    except: # In case of error\n",
    "        raise FileNotFoundError('Recheck the path/filename') # Raise a warning\n",
    "        \n",
    "    return numOfLines # Return the number of lines\n",
    "\n",
    "print(count_lines('/Users/macbook/Desktop/INFO212/Assignment 1/train.csv')) \n",
    "# The result is 892\n",
    "# '/Users/macbook/Desktop/INFO212/Assignment 1/train.csv' is the path of the file\n",
    "# on my computer. The path may change if ran on another computer.\n",
    "    "
   ]
  },
  {
   "cell_type": "markdown",
   "metadata": {},
   "source": [
    "#### Question 5:\n",
    "Given a list $c=[c_0, c_1, ..c_n]$ containing the coefficients of the polynomial $y=c_0+c_1x+c_2x^2+...+c_nx^n$. Write a Python function `poly_value(x, c)` to calculate the value of the polynomial for a given value $x$.\n",
    "\n",
    "For example, the list `c=[0.2, 0.4,0.3]` contains the coefficients of the following polynomial: $y = c_0 + c_1 + c_2x^2$. Given $x=5$, the functin `poly_value(x, c)` returns 9.7.\n",
    "\n",
    "Hint: The built-in function `enumerate` takes a sequence (e.g. a list) and generates a new sequence of the same length. Each element of the new sequence is a pair composed of the index (0, 1, 2,…) and the value from the original sequence.\n",
    "\n",
    "You can write a loop to use `enumerate(c)` to compuate `y`."
   ]
  },
  {
   "cell_type": "code",
   "execution_count": 9,
   "metadata": {
    "jupyter": {
     "outputs_hidden": true
    }
   },
   "outputs": [
    {
     "data": {
      "text/plain": [
       "9.7"
      ]
     },
     "execution_count": 9,
     "metadata": {},
     "output_type": "execute_result"
    }
   ],
   "source": [
    "def poly_value(x, c):\n",
    "    \"\"\"\n",
    "    This function compute the value of the polynomial y=c[0]+c[1]*x+c[2]*x**2+...\n",
    "    \n",
    "    Input:\n",
    "        x: a given value\n",
    "        c: a list of coefficients of a polynomial\n",
    "    Output:\n",
    "        val: the value of polynomial y=c[0]+c[1]*x+c[2]*x**2+...\n",
    "    \"\"\"\n",
    "    val_list = [] # Create an empty list that will contain values of c[0],..., c[n]*x**n\n",
    "    \n",
    "    for i, coef in enumerate(c): # Create a for loop that makes use of enumerate() function\n",
    "        val_list.append(coef*x**i) # Append c[i]*x**i to val_list\n",
    "    \n",
    "    val = sum(val_list) # val equals the sum of all elements of val_list\n",
    "    \n",
    "    return val # Return val"
   ]
  },
  {
   "cell_type": "markdown",
   "metadata": {},
   "source": [
    "#### Question 6: [BONUS]\n",
    "The given file `ages.txt` contains the ages of some passengers in a cruise ship. Write Python code to open the file and create a list of ages. Continue to write code to answer the following questions:\n",
    "1. What is the age of the youngest passenger?\n",
    "2. What is the age of the oldest passenger?\n",
    "3. What is the average age of all passengers?\n",
    "4. What is the median age such that there are equal numbers of passengers younger and older than the median age?\n",
    "5. Order the ages in ascending order. break the ages in ranges of 20. In which range were the largest number of passengers found?"
   ]
  },
  {
   "cell_type": "code",
   "execution_count": 41,
   "metadata": {},
   "outputs": [
    {
     "name": "stdout",
     "output_type": "stream",
     "text": [
      "[22, 38, 26, 35, 35, 54, 2, 27, 14, 4, 58, 20, 39, 14, 55, 2, 31, 35, 34, 15, 28, 8, 38, 19, 40, 66, 28, 42, 21, 18, 14, 40, 27, 3, 19, 18, 7, 21, 49, 29, 65, 21, 28, 5, 11, 22, 38, 45, 4, 29, 19, 17, 26, 32, 16, 21, 26, 32, 25, 0.83, 30, 22, 29, 28, 17, 33, 16, 23, 24, 29, 20, 46, 26, 59, 71, 23, 34, 34, 28, 21, 33, 37, 28, 21, 38, 47, 14, 22, 20, 17, 21, 70, 29, 24, 2, 21, 32, 32, 54, 12, 24, 45, 33, 20, 47, 29, 25, 23, 19, 37, 16, 24, 22, 24, 19, 18, 19, 27, 9, 36, 42, 51, 22, 55, 40, 51, 16, 30, 44, 40, 26, 17, 1, 9, 45, 28, 61, 4, 1, 21, 56, 18, 50, 30, 36, 9, 1, 4, 45, 40, 36, 32, 19, 19, 3, 44, 58, 42, 24, 28, 34, 45, 18, 2, 32, 26, 16, 40, 24, 35, 22, 30, 31, 27, 42, 32, 30, 16, 27, 51, 38, 22, 19, 20, 18, 35, 29, 59, 5, 24, 44, 8, 19, 33, 29, 22, 30, 44, 25, 24, 37, 54, 29, 62, 30, 41, 29, 30, 35, 50, 3, 52, 40, 36, 16, 25, 58, 35, 25, 41, 37, 63, 45, 7, 35, 65, 28, 16, 19, 33, 30, 22, 42, 22, 26, 19, 36, 24, 24, 23, 2, 50, 19, 0.92, 17, 30, 30, 24, 18, 26, 28, 43, 26, 24, 54, 31, 40, 22, 27, 30, 22, 36, 61, 36, 31, 16, 45, 38, 16, 29, 41, 45, 45, 2, 24, 28, 25, 36, 24, 40, 3, 42, 23, 15, 25, 28, 22, 38, 40, 29, 45, 35, 30, 60, 24, 25, 18, 19, 22, 3, 22, 27, 20, 19, 42, 1, 32, 35, 18, 1, 36, 17, 36, 21, 28, 23, 24, 22, 31, 46, 23, 28, 39, 26, 21, 28, 20, 34, 51, 3, 21, 33, 44, 34, 18, 30, 10, 21, 29, 28, 18, 28, 19, 32, 28, 42, 17, 50, 14, 21, 24, 64, 31, 45, 20, 25, 28, 4, 13, 34, 5, 52, 36, 30, 49, 29, 65, 50, 48, 34, 47, 48, 38, 56, 0.75, 38, 33, 23, 22, 34, 29, 22, 2, 9, 50, 63, 25, 35, 58, 30, 9, 21, 55, 71, 21, 54, 25, 24, 17, 21, 37, 16, 18, 33, 28, 26, 29, 36, 54, 24, 47, 34, 36, 32, 30, 22, 44, 40, 50, 39, 23, 2, 17, 30, 7, 45, 30, 22, 36, 9, 11, 32, 50, 64, 19, 33, 8, 17, 27, 22, 22, 62, 48, 39, 36, 40, 28, 24, 19, 29, 32, 62, 53, 36, 16, 19, 34, 39, 32, 25, 39, 54, 36, 18, 47, 60, 22, 35, 52, 47, 37, 36, 49, 49, 24, 44, 35, 36, 30, 27, 22, 40, 39, 35, 24, 34, 26, 4, 26, 27, 42, 20, 21, 21, 61, 57, 21, 26, 80, 51, 32, 9, 28, 32, 31, 41, 20, 24, 2, 0.75, 48, 19, 56, 23, 18, 21, 18, 24, 32, 23, 58, 50, 40, 47, 36, 20, 32, 25, 43, 40, 31, 70, 31, 18, 24, 18, 43, 36, 27, 20, 14, 60, 25, 14, 19, 18, 15, 31, 4, 25, 60, 52, 44, 49, 42, 18, 35, 18, 25, 26, 39, 45, 42, 22, 24, 48, 29, 52, 19, 38, 27, 33, 6, 17, 34, 50, 27, 20, 30, 25, 25, 29, 11, 23, 23, 28, 48, 35, 36, 21, 24, 31, 70, 16, 30, 19, 31, 4, 6, 33, 23, 48, 0.67, 28, 18, 34, 33, 41, 20, 36, 16, 51, 30, 32, 24, 48, 57, 54, 18, 5, 43, 13, 17, 29, 25, 25, 18, 8, 1, 46, 16, 25, 39, 49, 31, 30, 30, 34, 31, 11, 0.42, 27, 31, 39, 18, 39, 33, 26, 39, 35, 6, 30, 23, 31, 43, 10, 52, 27, 38, 27, 2, 1, 62, 15, 0.83, 23, 18, 39, 21, 32, 20, 16, 30, 34, 17, 42, 35, 28, 4, 74, 9, 16, 44, 18, 45, 51, 24, 41, 21, 48, 24, 42, 27, 31, 4, 26, 47, 33, 47, 28, 15, 20, 19, 56, 25, 33, 22, 28, 25, 39, 27, 19, 26, 32]\n",
      "The age of the youngest passenger is: 0.42\n",
      "The age of the oldest passenger is: 80\n",
      "The average age of all passengers is: 29.69\n",
      "The median age of all passengers is: 28\n"
     ]
    }
   ],
   "source": [
    "# Write your code and answers here\n",
    "\n",
    "def open_file(fname):\n",
    "    \"\"\"\n",
    "    This function open a text file and create a list of values in the file.\n",
    "    \n",
    "    Input: \n",
    "        fname: the path/name to a text file.\n",
    "    Output:\n",
    "        val_list: a list of values in the file.\n",
    "    \"\"\"\n",
    "        # Create a try-except to raise a warning in case the file doesn't exist\n",
    "    try:\n",
    "        lines = open(fname).read().splitlines()\n",
    "        # Open file using open() function\n",
    "        # Use .read() method to read the file\n",
    "        # Use .splitlines() to get a list of lines. This also strips the whitespaces.\n",
    "        '''\n",
    "        another way is to use .readlines()\n",
    "        \n",
    "        lines = open(fname).readlines()\n",
    "        lines_without_whitespaces = [val.rstrip() for val in lines if val != ''] \n",
    "        \n",
    "        # The if is to get rid of blank lines\n",
    "        # Use .rstrip() to get rid of whitespaces\n",
    "        '''\n",
    "        val_list = [] # Create an empty list that will contain ages\n",
    "        \n",
    "        #  Convert ages older than or equal to 1 year old to integers\n",
    "        for val in lines:\n",
    "            if float(val) >= 1:\n",
    "                val_list.append(int(float(val)))\n",
    "                # Since values in val are strings represent float, they need to be converted\n",
    "                # to float first before use int().\n",
    "            else:\n",
    "                val_list.append(float(val))\n",
    "                \n",
    "    except: # In case of error\n",
    "        raise FileNotFoundError('Recheck the path/filename') # Raise a warning\n",
    "        \n",
    "    return val_list # Return the list of ages\n",
    "\n",
    "# This is the path on my computer\n",
    "ages = open_file('/Users/macbook/Desktop/INFO212/Assignment 1/ages.txt') \n",
    "\n",
    "print(ages) # Print the list of ages\n"
   ]
  },
  {
   "cell_type": "markdown",
   "metadata": {},
   "source": [
    "### Answering questions"
   ]
  },
  {
   "cell_type": "code",
   "execution_count": 49,
   "metadata": {},
   "outputs": [
    {
     "name": "stdout",
     "output_type": "stream",
     "text": [
      "The age of the youngest passenger is: 0.42\n",
      "The age of the oldest passenger is: 80\n",
      "The average age of all passengers is: 29.69\n",
      "The median age of all passengers is: 28\n",
      "The sorted list of age in ascending order: [0.42, 0.67, 0.75, 0.75, 0.83, 0.83, 0.92, 1, 1, 1, 1, 1, 1, 1, 2, 2, 2, 2, 2, 2, 2, 2, 2, 2, 3, 3, 3, 3, 3, 3, 4, 4, 4, 4, 4, 4, 4, 4, 4, 4, 5, 5, 5, 5, 6, 6, 6, 7, 7, 7, 8, 8, 8, 8, 9, 9, 9, 9, 9, 9, 9, 9, 10, 10, 11, 11, 11, 11, 12, 13, 13, 14, 14, 14, 14, 14, 14, 14, 15, 15, 15, 15, 15, 16, 16, 16, 16, 16, 16, 16, 16, 16, 16, 16, 16, 16, 16, 16, 16, 16, 17, 17, 17, 17, 17, 17, 17, 17, 17, 17, 17, 17, 17, 18, 18, 18, 18, 18, 18, 18, 18, 18, 18, 18, 18, 18, 18, 18, 18, 18, 18, 18, 18, 18, 18, 18, 18, 18, 18, 19, 19, 19, 19, 19, 19, 19, 19, 19, 19, 19, 19, 19, 19, 19, 19, 19, 19, 19, 19, 19, 19, 19, 19, 19, 20, 20, 20, 20, 20, 20, 20, 20, 20, 20, 20, 20, 20, 20, 20, 20, 21, 21, 21, 21, 21, 21, 21, 21, 21, 21, 21, 21, 21, 21, 21, 21, 21, 21, 21, 21, 21, 21, 21, 21, 22, 22, 22, 22, 22, 22, 22, 22, 22, 22, 22, 22, 22, 22, 22, 22, 22, 22, 22, 22, 22, 22, 22, 22, 22, 22, 22, 23, 23, 23, 23, 23, 23, 23, 23, 23, 23, 23, 23, 23, 23, 23, 23, 24, 24, 24, 24, 24, 24, 24, 24, 24, 24, 24, 24, 24, 24, 24, 24, 24, 24, 24, 24, 24, 24, 24, 24, 24, 24, 24, 24, 24, 24, 24, 25, 25, 25, 25, 25, 25, 25, 25, 25, 25, 25, 25, 25, 25, 25, 25, 25, 25, 25, 25, 25, 25, 25, 26, 26, 26, 26, 26, 26, 26, 26, 26, 26, 26, 26, 26, 26, 26, 26, 26, 26, 27, 27, 27, 27, 27, 27, 27, 27, 27, 27, 27, 27, 27, 27, 27, 27, 27, 27, 28, 28, 28, 28, 28, 28, 28, 28, 28, 28, 28, 28, 28, 28, 28, 28, 28, 28, 28, 28, 28, 28, 28, 28, 28, 28, 28, 29, 29, 29, 29, 29, 29, 29, 29, 29, 29, 29, 29, 29, 29, 29, 29, 29, 29, 29, 29, 30, 30, 30, 30, 30, 30, 30, 30, 30, 30, 30, 30, 30, 30, 30, 30, 30, 30, 30, 30, 30, 30, 30, 30, 30, 30, 30, 31, 31, 31, 31, 31, 31, 31, 31, 31, 31, 31, 31, 31, 31, 31, 31, 31, 32, 32, 32, 32, 32, 32, 32, 32, 32, 32, 32, 32, 32, 32, 32, 32, 32, 32, 32, 32, 33, 33, 33, 33, 33, 33, 33, 33, 33, 33, 33, 33, 33, 33, 33, 34, 34, 34, 34, 34, 34, 34, 34, 34, 34, 34, 34, 34, 34, 34, 34, 35, 35, 35, 35, 35, 35, 35, 35, 35, 35, 35, 35, 35, 35, 35, 35, 35, 35, 36, 36, 36, 36, 36, 36, 36, 36, 36, 36, 36, 36, 36, 36, 36, 36, 36, 36, 36, 36, 36, 36, 36, 37, 37, 37, 37, 37, 37, 38, 38, 38, 38, 38, 38, 38, 38, 38, 38, 38, 39, 39, 39, 39, 39, 39, 39, 39, 39, 39, 39, 39, 39, 39, 40, 40, 40, 40, 40, 40, 40, 40, 40, 40, 40, 40, 40, 40, 40, 41, 41, 41, 41, 41, 41, 42, 42, 42, 42, 42, 42, 42, 42, 42, 42, 42, 42, 42, 43, 43, 43, 43, 43, 44, 44, 44, 44, 44, 44, 44, 44, 44, 45, 45, 45, 45, 45, 45, 45, 45, 45, 45, 45, 45, 45, 45, 46, 46, 46, 47, 47, 47, 47, 47, 47, 47, 47, 47, 48, 48, 48, 48, 48, 48, 48, 48, 48, 49, 49, 49, 49, 49, 49, 50, 50, 50, 50, 50, 50, 50, 50, 50, 50, 51, 51, 51, 51, 51, 51, 51, 52, 52, 52, 52, 52, 52, 53, 54, 54, 54, 54, 54, 54, 54, 54, 55, 55, 55, 56, 56, 56, 56, 57, 57, 58, 58, 58, 58, 58, 59, 59, 60, 60, 60, 60, 61, 61, 61, 62, 62, 62, 62, 63, 63, 64, 64, 65, 65, 65, 66, 70, 70, 70, 71, 71, 74, 80]\n",
      "180\n",
      "386\n",
      "126\n",
      "22\n"
     ]
    }
   ],
   "source": [
    "print('The age of the youngest passenger is:', min(ages)) \n",
    "# First question. Ans: 0.42\n",
    "print('The age of the oldest passenger is:', max(ages)) \n",
    "# Second question. Ans: 80\n",
    "print('The average age of all passengers is:', '%.2f'%(sum(ages)/len(ages))) \n",
    "# Third question. Ans: 29.69 (Round up to 2 decimal places)\n",
    "print('The median age of all passengers is:', int(median(ages)))\n",
    "# Fourth question. Ans: 28\n",
    "\n",
    "ages.sort()\n",
    "print('The sorted list of age in ascending order:', ages)\n",
    "\n",
    "# Create four lists for four ranges of ages\n",
    "zero_to_20 = [age for age in ages if 0<age<=20]\n",
    "twenty_to_40 = [age for age in ages if 20<age<=40]\n",
    "forty_to_60 = [age for age in ages if 40<age<=60]\n",
    "sixty_to_80 = [age for age in ages if 60<age<=80]\n",
    "\n",
    "# Print out the number of passengers in each age range\n",
    "print(len(zero_to_20))\n",
    "print(len(twenty_to_40))\n",
    "print(len(forty_to_60))\n",
    "print(len(sixty_to_80))\n",
    "\n",
    "# Fifth question. Ans: Highest number of passengers fall into the range of 20 to 40 years old.\n"
   ]
  },
  {
   "cell_type": "code",
   "execution_count": 6,
   "metadata": {},
   "outputs": [
    {
     "name": "stdout",
     "output_type": "stream",
     "text": [
      "<zip object at 0x10b71f460>\n"
     ]
    }
   ],
   "source": [
    "l = [1,2,3]\n",
    "\n",
    "print(zip(l))"
   ]
  },
  {
   "cell_type": "code",
   "execution_count": 11,
   "metadata": {},
   "outputs": [
    {
     "name": "stdout",
     "output_type": "stream",
     "text": [
      "{(2, 5), (3, 6), (1, 4)}\n",
      "{(2, 5), (3, 6), (1, 4)}\n"
     ]
    }
   ],
   "source": [
    "l = [(1,2,3), (4,5,6)]\n",
    "t = zip(*l)\n",
    "print(set(t))\n",
    "\n",
    "l1 = [1,2,3]\n",
    "l2 = [4,5,6]\n",
    "t = zip(l1, l2)\n",
    "print(set(t))"
   ]
  },
  {
   "cell_type": "code",
   "execution_count": null,
   "metadata": {},
   "outputs": [],
   "source": []
  }
 ],
 "metadata": {
  "kernelspec": {
   "display_name": "Python 3",
   "language": "python",
   "name": "python3"
  },
  "language_info": {
   "codemirror_mode": {
    "name": "ipython",
    "version": 3
   },
   "file_extension": ".py",
   "mimetype": "text/x-python",
   "name": "python",
   "nbconvert_exporter": "python",
   "pygments_lexer": "ipython3",
   "version": "3.7.4"
  }
 },
 "nbformat": 4,
 "nbformat_minor": 4
}
