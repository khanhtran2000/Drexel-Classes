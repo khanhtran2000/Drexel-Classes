{
 "cells": [
  {
   "cell_type": "markdown",
   "metadata": {},
   "source": [
    "### College of Computing and Informatics, Drexel University\n",
    "### INFO 212: Data Science Programming I, Spring 2020\n",
    "---\n",
    "\n",
    "## Project Proposal\n",
    "\n",
    "## Project Title: Correlation Among Weather, Crime Incidents and Income Level in Boston Districts\n",
    "## Student(s): Khanh Tran, Prakhar Saxena\n",
    "#### Date: May 18, 2020---"
   ]
  },
  {
   "cell_type": "markdown",
   "metadata": {},
   "source": [
    "#### Purpose\n",
    "---\n",
    "This project proposal should describe the problem, the data sets, and the goal(s) of the project. Use the Project Requirements at the end of this notebook for choosing and scoping your project. \n",
    "\n",
    "## This proposal must be submitted to the instructor before Sunday, May 24, 2020."
   ]
  },
  {
   "cell_type": "markdown",
   "metadata": {},
   "source": [
    "### 1. Introduction\n",
    "---\n",
    "*(Introduce the project and describe the objectives. This section will provide an overview of the entire project including the description of the data sets and the specific data analytics methods and techniques the team will use for analyzing the data to address the problem.)* "
   ]
  },
  {
   "cell_type": "markdown",
   "metadata": {},
   "source": [
    "Our project will serve as an analytical research on the relationships between weather and income levels, weather and crime rates, and income levels and crime rates in different districts of Boston City, U.S.. The project will also investigate the changes in these relationships with respect to date. The main goal of this project is to find whether there exists any connections among these attributes. In order to achieve this goal, the project has taken in consideration these datasets: \n",
    "* District_Corresponding Zips.csv which contains the zipcodes of districts in Boston. This dataset has 15 rows and 2 columns.\n",
    "* Income Levels.csv which contains the information of average income per household in each area based on zipcodes and the population in each area. This dataset has 23 rows and 3 columns.\n",
    "* ProjectWeather.csv which contains the weather information such as min, max, and average temperature sorted by date from 2015 to 2018. This dataset has 1463 rows and 6 columns.\n",
    "* WeatherCrime.csv which contains information about types and descriptions of crimes, their corresponding weather features as well as income levels in each district of Boston. In other words, this dataset is a combination of the above three in conjunction with crime data. This dataset has 320988 rows and 20 columns.\n",
    "\n",
    "Our approach will start with data cleaning, followed by plotting the relationships of specific attributes in different datasets, and lastly we will perform graph analytics to figure out the correlations among the attributes. The scope of the project is to analyzing these groups of attributes:\n",
    "* Different Crime Incidents vs Income Levels throughout Districts\n",
    "* Crime Rate\n",
    "* Monthly Incident Count\n",
    "* Monthly Temperature Change vs Incident Count\n",
    "* Top 20 Offenses by Types\n",
    "* Shooting vs Offense Code\n",
    "* Number of Incidents vs Day of the Week and Hour of the Day\n",
    "\n",
    "Graphs used in this project are line graphs, bar graphs, and column charts. "
   ]
  },
  {
   "cell_type": "markdown",
   "metadata": {},
   "source": [
    "### 2. Problem Definition\n",
    "---\n",
    "*(Define the problem that will be solved in this data analytics project. Where does the problem come from? Who would be benefited from the solutions presented in this project? Use formal languages and notations to define the problem as much as possible.)*"
   ]
  },
  {
   "cell_type": "markdown",
   "metadata": {},
   "source": [
    "The first problem that we can solve in this data analytics project is to identify the Boston areas that in the past had witnessed the most crime incidents, and what types. With such discovery, the authorities of Boston City can know where to focus on stopping the crime the most. One of the solutions is to improve the economy or the financial status of the areas, and this project also provides helpful assistance with that via analytical results. Identifying the relationships between income levels and incident counts per district, which is among the main goals of the project, can provide evidence for such case. In other words, this project attempts to find out if weath and poverty is in any ways among the causes of crime in Boston districts. This makes the second problem that our project will try to solve.\n",
    "Additionally, if we do find even a weak correlation between weather and crime, that could be of big help to the authorities. They can prioritise patrolling around based on the weather.\n",
    "\n",
    "The third problem is to keep track of the crime incidents count throught twelve months of the year via plotting and analyzing monthly incidents. We try to know if there is a pattern here. And this leads to the next problem that we want to shed the lights on which is how weather (of particular periods of months) may influence the ups and downs of the incidents count. If the pattern is figured out, people in Boston can take precautions and raise their awareness of encountering a crime case based on the weather of the day or the time of the year or the destination they are going to travel to. \n",
    "\n"
   ]
  },
  {
   "cell_type": "markdown",
   "metadata": {},
   "source": [
    "### 3. Data Sources\n",
    "---\n",
    "*(Describe the origin of the data sources. What is the format of the original data? How to access the data?)*"
   ]
  },
  {
   "cell_type": "markdown",
   "metadata": {},
   "source": [
    "* We acquired this data from a variety of sources. The data pertaining to Crimes in Boston is available to all on Kaggle: https://www.kaggle.com/ankkur13/boston-crime-dataNational \n",
    "* To link the city zipcodes with the police districts, we acquired data from the Boston Police Department itself:  https://bpdnews.com/districts\n",
    "* We acquired the household income data by zipcode/district from a website called zipatlas: http://www.zipatlas.com/us/ma/boston/zip-code-comparison/median-household-income.htm\n",
    "* For weather we acquired our data from the National Oceanic and Atmospheric Administration's National Centers for Environmental Information. They have an API set up for this: https://www.ncdc.noaa.gov/data-access\n",
    "\n",
    "###### It must be noted that all the data here was availabel in a .csv format."
   ]
  },
  {
   "cell_type": "markdown",
   "metadata": {},
   "source": [
    "### 4. Other Things you Would Like to Describe\n",
    "---\n",
    "*(Is there anything you would like to describe as well? For example, preliminary analyses and results...)*"
   ]
  },
  {
   "cell_type": "code",
   "execution_count": null,
   "metadata": {},
   "outputs": [],
   "source": []
  },
  {
   "cell_type": "markdown",
   "metadata": {},
   "source": [
    "### 5. References\n",
    "---\n",
    "*(list the references you will use in the project.)*"
   ]
  },
  {
   "cell_type": "markdown",
   "metadata": {},
   "source": [
    "REFERENCES \n",
    "\n",
    "AnkurJain. (2018, October 04). Crimes in Boston. Retrieved May 26, 2019, from https://www.kaggle.com/ankkur13/boston-crime-dataNational Institute of Justice. (n.d.). \n",
    " \n",
    "Police Districts. Retrieved from https://bpdnews.com/districts. Boston Police Department. (n.d). \n",
    " \n",
    "Household Income in Boston, MA by Zip Code. Retrieved from http://www.zipatlas.com/us/ma/boston/zip-code-comparison/median-household-income.htm. ZipAtlas.com Development Team. (n.d.). \n"
   ]
  },
  {
   "cell_type": "markdown",
   "metadata": {},
   "source": [
    "---\n",
    "(*Use the following requirements for writing your reports. DO NOT DELETE THE CELLS BELLOW*)"
   ]
  },
  {
   "cell_type": "markdown",
   "metadata": {},
   "source": [
    "# Project Requirements\n",
    "\n",
    "This final project examines the level of knowledge the students have learned from the course. The following course outcomes will be checked against the content of the report:\n",
    "\n",
    "Upon successful completion of this course, a student will be able to:\n",
    "* Describe the main steps and key issues in the process of acquiring and preparing data for data analytics.\n",
    "* Set up data analysis environment by integrating commonly used practical tools and programming packages.   \n",
    "* Explain different types of data storages and formats and apply appropriate tools for extracting and transforming data.\n",
    "* Create interactive and programming code for cleansing, wrangling, reshaping, visualizing and analyzing various data sets. \n",
    "* Explain the concepts of aggregation and grouping, and apply tools and write programs to aggregate and group data.\n",
    "\n",
    "** Marking will be foucsed on both presentation and content.** \n",
    "\n",
    "## Written Presentation Requirements\n",
    "The report will be judged on the basis of visual appearance, grammatical correctness, and quality of writing, as well as its contents. Please make sure that the text of your report is well-structured, using paragraphs, full sentences, and other features of well-written presentation.\n",
    "\n",
    "## Technical Content of the Entire Project (Not All the Points Applicable to the proposal):\n",
    "* Is the problem well defined and described thoroughly?\n",
    "* Is the size and complexity of the data set used in this project comparable to that of the example data sets used in the lectures and assignments?\n",
    "* Did the report describe the charactriatics of the data?\n",
    "* Did the report describe the goals of the data analysis?\n",
    "* Did the analysis use plotting methods for visualization? Does the visualization convey meaningful messages?\n",
    "* Did the analysis use wrangling, cleaning, and preparation methods? Does the work on wrangling, cleaning, and preparation demonstrate the student's knowlegde about these topics covered in this course?\n",
    "* Did the analysis conduct aggretation and create descriptive statistics? Does the work on aggregation and descriptive statistics demonstrate the student's knowlegde about these topics covered in this course?\n",
    "* Only those projects that exceed the sophistication of the final data analysis examples and assignments can be marked as the highest level of grade.\n",
    "* Overall, what is the rating of this project?"
   ]
  },
  {
   "cell_type": "code",
   "execution_count": null,
   "metadata": {},
   "outputs": [],
   "source": []
  }
 ],
 "metadata": {
  "kernelspec": {
   "display_name": "Python 3",
   "language": "python",
   "name": "python3"
  },
  "language_info": {
   "codemirror_mode": {
    "name": "ipython",
    "version": 3
   },
   "file_extension": ".py",
   "mimetype": "text/x-python",
   "name": "python",
   "nbconvert_exporter": "python",
   "pygments_lexer": "ipython3",
   "version": "3.7.7"
  }
 },
 "nbformat": 4,
 "nbformat_minor": 4
}
