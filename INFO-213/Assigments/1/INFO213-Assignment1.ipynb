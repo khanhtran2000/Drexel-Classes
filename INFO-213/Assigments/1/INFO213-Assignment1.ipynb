{
 "cells": [
  {
   "cell_type": "markdown",
   "metadata": {},
   "source": [
    "<h1 style=\"text-align:center\"> Drexel University </h1>\n",
    "<h2 style = \"text-align:center\"> College of Computing and Informatics</h2>\n",
    "<h2 style = \"text-align:center\">INFO 213: Data Science Programming II</h2>\n",
    "<h3 style = \"text-align:center\">Assignment 1</h3>\n",
    "<div style=\"text-align:center; border-style:solid; padding: 10px\">\n",
    "<div style=\"font-weight:bold\">Due Date: Sunday, July 5, 2020</div>\n",
    "This assignment counts for 15% of the final grade\n",
    "</div>\n",
    "\n",
    "<h3 style=\"color:red; font-weight:bold; text-decoration: underline\">DON'T FORGET TO PUT YOUR NAME BELOW</h3>\n",
    "\n",
    "### NAME:\n",
    "KHANH TRAN\n",
    "\n",
    "### A. Assignment Overview\n",
    "This assignment provides the opportunity for you to practice data science in Python. \n",
    "\n",
    "### B. What to Hand In\n",
    "\t\n",
    "Submit a completed Jupyter notebook. \n",
    "\n",
    "### C. How to Hand In\n",
    "\n",
    "Submit your Jupyter notebook file through the course website in the Blackboard Learn system.\n",
    "\n",
    "### D. When to Hand In\n",
    "\n",
    "1. Submit your assignment no later than 11:59pm in the due date.\n",
    "2. There will be a 10% (absolute value) deduction for each day of lateness, to a maximum of 3 days; assignments will not be accepted beyond that point. Missing work will earn a zero grade.\n",
    "\n",
    "### E. Written Presentation Requirements (if applicable)\n",
    "Images must be clear and legible. Assignments will be judged on the basis of visual appearance, grammatical correctness, and quality of writing, as well as their contents. Please make sure that the text of your assignments is well-structured, using paragraphs, full sentences, and other features of well-written presentation.\n",
    "\n",
    "### F. Marking Schemes:\n",
    "\n",
    "Grading assignments will be based on several aspects: presentation, correctness and coding styles. \n",
    "\n",
    "1. Write a good comment for each variable, each method, each control branch, and each loop. \n",
    "2. Your method comments must mention the purpose of each parameter, and must be grammatically correct.  \n",
    "\n",
    "### G. Data Sets\n",
    "\n",
    "This assignment needs the data sets specified in the questions.\n",
    "\n",
    "### H. Answer the following questions"
   ]
  },
  {
   "cell_type": "markdown",
   "metadata": {},
   "source": [
    "#### Question 1:\n",
    "\n",
    "Write Python programs to implement a list of  linear algebra operations as specified in the following functions. Your programs must implement the operations from scratch meaning the programs must implement the linear algebra definitions of the operations. For example, for two vectors $v$ and $w$, $v+w$ is defined as $\\sum_{i} (v[i] + w[i])$. Test your functions on some sample inputs."
   ]
  },
  {
   "cell_type": "code",
   "execution_count": 2,
   "metadata": {},
   "outputs": [],
   "source": [
    "# Sample testing vectors. Use more data for testing the functions.\n",
    "v = [2, 3.4, -6, 7, 0.9, -3.4]\n",
    "w = [4, -5, 1.2, 9.0, 3.14, 2.76]\n",
    "x = [0.2, 0.3, -0.4, 0, -1, 2]\n",
    "c = 1.14\n",
    "vectors = [v, w, x]"
   ]
  },
  {
   "cell_type": "code",
   "execution_count": 10,
   "metadata": {},
   "outputs": [
    {
     "name": "stdout",
     "output_type": "stream",
     "text": [
      "The componentwise sum of the two vectors v and w is:  [6, -1.6, -4.8, 16.0, 4.04, -0.64]\n"
     ]
    }
   ],
   "source": [
    "def vector_add(v, w):\n",
    "    \"\"\"\n",
    "    adds two vectors componentwise\n",
    "    INPUT: v, w are two vectors of numbers in the same length\n",
    "    OUTPUT: a vector containing the additions of the corresponding elements in v and w\n",
    "    \"\"\"\n",
    "    result = []\n",
    "    \n",
    "    # Each component of v will be added with that in the same position in w\n",
    "    for i, j in enumerate(v):\n",
    "        component = j + w[i]\n",
    "        result.append(round(component,3)) # Round to 3 decimal places\n",
    "    \n",
    "    return result\n",
    "    \n",
    "print(\"The componentwise sum of the two vectors v and w is: \", vector_add(v, w))"
   ]
  },
  {
   "cell_type": "code",
   "execution_count": 13,
   "metadata": {},
   "outputs": [
    {
     "name": "stdout",
     "output_type": "stream",
     "text": [
      "The componentwise subtraction of the two vectors v and w is:  [-2, 8.4, -7.2, -2.0, -2.24, -6.16]\n"
     ]
    }
   ],
   "source": [
    "def vector_subtract(v, w):\n",
    "    \"\"\"\n",
    "    subtracts two vectors componentwise\n",
    "    INPUT: v, w are two vectors of numbers in the same length\n",
    "    OUTPUT: a vector containing the subtractions of the corresponding elements in v and w\n",
    "    \"\"\"\n",
    "    result = []\n",
    "    \n",
    "    # Each component of w will be subtracted from that in the same position in v\n",
    "    for i, j in enumerate(v):\n",
    "        component = j - w[i]\n",
    "        result.append(round(component,3)) # Round to 3 decimal places\n",
    "    \n",
    "    return result\n",
    "    \n",
    "print(\"The componentwise subtraction of the two vectors v and w is: \", vector_subtract(v, w))"
   ]
  },
  {
   "cell_type": "code",
   "execution_count": 14,
   "metadata": {},
   "outputs": [
    {
     "name": "stdout",
     "output_type": "stream",
     "text": [
      "The componentwise sum of the list of vectors is:  [6.2, -1.3, -5.2, 16.0, 3.04, 1.36]\n"
     ]
    }
   ],
   "source": [
    "def vector_sum(vectors):\n",
    "    \"\"\"\n",
    "    adds a list of vectors componentwise\n",
    "    INPUT: vectors is a list of vectors in the same length\n",
    "    OUTPUT: a vectors containing the additions of the corresponding elements in the vectors\n",
    "    \"\"\"\n",
    "    result = []\n",
    "    \n",
    "    for i in range(len(vectors[0])):\n",
    "        # Create a list of components in the same position of all vectors\n",
    "        component = [vector[i] for vector in vectors] \n",
    "        # Sum them all up and append the sum to result\n",
    "        result.append(round(sum(component),3))  \n",
    "\n",
    "    return result\n",
    "    \n",
    "    \n",
    "print(\"The componentwise sum of the list of vectors is: \", vector_sum(vectors))"
   ]
  },
  {
   "cell_type": "code",
   "execution_count": 15,
   "metadata": {},
   "outputs": [
    {
     "name": "stdout",
     "output_type": "stream",
     "text": [
      "The componentwise sum of the list of vectors is:  [13.9, 7.5, 12.92, 32.67, 20.25, 10.814]\n"
     ]
    }
   ],
   "source": [
    "# Try with more than three vectors \n",
    "y = [3.4, 2.6, 9.12, 4.55, 12.01, 9.3]\n",
    "z = [4.3, 6.2, 9.0, 12.12, 5.2, 0.154]\n",
    "vectors_2 = [v, w, x, y, z]\n",
    "\n",
    "print(\"The componentwise sum of the list of vectors is: \", vector_sum(vectors_2))"
   ]
  },
  {
   "cell_type": "code",
   "execution_count": 19,
   "metadata": {},
   "outputs": [
    {
     "name": "stdout",
     "output_type": "stream",
     "text": [
      "The componentwise muplication of the vector v with a scalar c is:  [2.28, 3.876, -6.84, 7.98, 1.026, -3.876]\n"
     ]
    }
   ],
   "source": [
    "def scalar_multiply(c, v):\n",
    "    \"\"\"\n",
    "    multiplies a vector by a scalar\n",
    "    INPUT:\n",
    "        c: a scalor\n",
    "        v: a vector of numbers\n",
    "    OUTPUT: a vector containing the values of multiplying the elmenents of v by c\n",
    "    \"\"\"\n",
    "    result = []\n",
    "    \n",
    "    for i in v:\n",
    "        result.append(round(i*c,3))\n",
    "    \n",
    "    return result\n",
    "    \n",
    "print(\"The componentwise muplication of the vector v with a scalar c is: \",scalar_multiply(c, v))"
   ]
  },
  {
   "cell_type": "code",
   "execution_count": 18,
   "metadata": {},
   "outputs": [
    {
     "name": "stdout",
     "output_type": "stream",
     "text": [
      "The componentwise muplication of the vector x with a scalar c is:  [0.228, 0.342, -0.456, 0.0, -1.14, 2.28]\n"
     ]
    }
   ],
   "source": [
    "# Try with x \n",
    "print(\"The componentwise muplication of the vector x with a scalar c is: \",scalar_multiply(c, x))"
   ]
  },
  {
   "cell_type": "code",
   "execution_count": 20,
   "metadata": {},
   "outputs": [
    {
     "name": "stdout",
     "output_type": "stream",
     "text": [
      "The dot product of the two vectors v and w is:  [8, -17.0, -7.2, 63.0, 2.826, -9.384]\n"
     ]
    }
   ],
   "source": [
    "def dot(v, w):\n",
    "    \"\"\"\n",
    "    computes the dot product of two vectors\n",
    "    INPUT: v and w are two vectors of numbers in the same length\n",
    "    OUTPUT: the dot product of v and w as defined as\n",
    "            v_1 * w_1 + ... + v_n * w_n\n",
    "    \"\"\"\n",
    "    result = []\n",
    "    \n",
    "    for i, j in enumerate(v):\n",
    "        component = j*w[i]\n",
    "        result.append(round(component,3))\n",
    "    \n",
    "    return result\n",
    "    \n",
    "print(\"The dot product of the two vectors v and w is: \", dot(v, w))"
   ]
  },
  {
   "cell_type": "code",
   "execution_count": 21,
   "metadata": {},
   "outputs": [
    {
     "name": "stdout",
     "output_type": "stream",
     "text": [
      "The dot product of the two vectors v and w is:  [0.8, -1.5, -0.48, 0.0, -3.14, 5.52]\n"
     ]
    }
   ],
   "source": [
    "# Try with x and w\n",
    "print(\"The dot product of the two vectors v and w is: \", dot(x, w))"
   ]
  },
  {
   "cell_type": "code",
   "execution_count": 25,
   "metadata": {},
   "outputs": [
    {
     "name": "stdout",
     "output_type": "stream",
     "text": [
      "The sum of squares of the elements in the two vectors v and w is:  112.93\n"
     ]
    }
   ],
   "source": [
    "def sum_of_squares(v):\n",
    "    \"\"\"\n",
    "    computes the sum of squares of the elements in a vector\n",
    "    INPUT: v is a vector of numbers\n",
    "    OUTPUT: the sum of squares of the elements in v as defined as\n",
    "            v_1 * v_1 + ... + v_n * v_n\"\"\"\n",
    "    \n",
    "    # A list of squares of the elements \n",
    "    squares = [i**2 for i in v]\n",
    "    \n",
    "    result = round(sum(squares),3)\n",
    "    \n",
    "    return result\n",
    "    \n",
    "print(\"The sum of squares of the elements in the vector v is: \", sum_of_squares(v))"
   ]
  },
  {
   "cell_type": "code",
   "execution_count": 27,
   "metadata": {},
   "outputs": [
    {
     "name": "stdout",
     "output_type": "stream",
     "text": [
      "The dot product of the two vectors x is:  5.29\n",
      "The dot product of the two vectors w is:  140.917\n"
     ]
    }
   ],
   "source": [
    "# Try with x and w\n",
    "print(\"The dot product of the two vectors x is: \", sum_of_squares(x))\n",
    "print(\"The dot product of the two vectors w is: \", sum_of_squares(w))"
   ]
  },
  {
   "cell_type": "code",
   "execution_count": 28,
   "metadata": {},
   "outputs": [
    {
     "name": "stdout",
     "output_type": "stream",
     "text": [
      "The magnitude of the vector v is:  10.627\n"
     ]
    }
   ],
   "source": [
    "import math\n",
    "def magnitude(v):\n",
    "    \"\"\"\n",
    "    computes the magnitude or length or Euclidean norm of a vector\n",
    "    INPUT: a vector of numbers\n",
    "    OUTPUT: the magnitude of the vector\n",
    "    \"\"\"\n",
    "    squares = [i**2 for i in v]\n",
    "    \n",
    "    # Basically take the square root of sum_of_squares(v)\n",
    "    result = round(math.sqrt(sum(squares)),3)\n",
    "    \n",
    "    return result\n",
    "    \n",
    "print(\"The magnitude of the vector v is: \", magnitude(v))"
   ]
  },
  {
   "cell_type": "code",
   "execution_count": 29,
   "metadata": {},
   "outputs": [
    {
     "name": "stdout",
     "output_type": "stream",
     "text": [
      "The magnitude of the vector x is:  2.3\n"
     ]
    }
   ],
   "source": [
    "# Try with x\n",
    "print(\"The magnitude of the vector x is: \", magnitude(x))"
   ]
  },
  {
   "cell_type": "code",
   "execution_count": 31,
   "metadata": {},
   "outputs": [
    {
     "name": "stdout",
     "output_type": "stream",
     "text": [
      "The squared distance of the two vectors v and w is:  173.363\n"
     ]
    }
   ],
   "source": [
    "def squared_distance(v, w):\n",
    "    \"\"\"\n",
    "    computes the squared distance between two vectors\n",
    "    INPUT: v and w are two vectors of numbers in the same length\n",
    "    OUTPUT: squared distance between v and w\n",
    "    \"\"\"\n",
    "    sum_squared = []\n",
    "    \n",
    "    for i, j in enumerate(v):\n",
    "        component = (j-w[i])**2\n",
    "        sum_squared.append(component)\n",
    "    \n",
    "    result = round(sum(sum_squared),3)\n",
    "    \n",
    "    return result\n",
    "    \n",
    "print(\"The squared distance of the two vectors v and w is: \", squared_distance(v, w))"
   ]
  },
  {
   "cell_type": "code",
   "execution_count": 34,
   "metadata": {},
   "outputs": [
    {
     "name": "stdout",
     "output_type": "stream",
     "text": [
      "The squared distance of the two vectors v and x is:  125.98\n"
     ]
    }
   ],
   "source": [
    "# Try with v and x\n",
    "print(\"The squared distance of the two vectors v and x is: \", squared_distance(v, x))"
   ]
  },
  {
   "cell_type": "code",
   "execution_count": 33,
   "metadata": {},
   "outputs": [
    {
     "name": "stdout",
     "output_type": "stream",
     "text": [
      "The distance between the two vectors v and w is:  13.167\n"
     ]
    }
   ],
   "source": [
    "def distance(v, w):\n",
    "    \"\"\"\n",
    "    computes the Euclidean distance between two vectors\n",
    "    INPUT: v and w are two vectors of numbers in the same length\n",
    "    OUTPUT: the Euclidean distance between v and w\n",
    "    \"\"\"\n",
    "    sum_squared = []\n",
    "    \n",
    "    for i, j in enumerate(v):\n",
    "        component = (j-w[i])**2\n",
    "        sum_squared.append(component)\n",
    "    \n",
    "    # Take the square root of squared_distance\n",
    "    result = round(math.sqrt(sum(sum_squared)),3)\n",
    "    \n",
    "    return result\n",
    "    \n",
    "print(\"The distance between the two vectors v and w is: \", distance(v, w))"
   ]
  },
  {
   "cell_type": "code",
   "execution_count": 35,
   "metadata": {},
   "outputs": [
    {
     "name": "stdout",
     "output_type": "stream",
     "text": [
      "The distance between the two vectors v and x is:  11.224\n"
     ]
    }
   ],
   "source": [
    "# Try with v and x\n",
    "print(\"The distance between the two vectors v and x is: \", distance(v, x))"
   ]
  },
  {
   "cell_type": "code",
   "execution_count": 36,
   "metadata": {},
   "outputs": [
    {
     "name": "stdout",
     "output_type": "stream",
     "text": [
      "The mean of the vector v is:  0.65\n"
     ]
    }
   ],
   "source": [
    "def mean(v):\n",
    "    \"\"\"\n",
    "    computes the mean of a vector of numbers\n",
    "    INPUT: v is a vector of numbers\n",
    "    OUTPUT: the mean value of v\n",
    "    \"\"\"\n",
    "    result = round(sum(v)/len(v),3)\n",
    "    \n",
    "    return result\n",
    "    \n",
    "print(\"The mean of the vector v is: \", mean(v))"
   ]
  },
  {
   "cell_type": "code",
   "execution_count": 37,
   "metadata": {},
   "outputs": [
    {
     "name": "stdout",
     "output_type": "stream",
     "text": [
      "The mean of the vector x is:  0.183\n",
      "The mean of the vector w is:  2.517\n"
     ]
    }
   ],
   "source": [
    "# Try with x\n",
    "print(\"The mean of the vector x is: \", mean(x))\n",
    "# Try with w\n",
    "print(\"The mean of the vector w is: \", mean(w))"
   ]
  },
  {
   "cell_type": "markdown",
   "metadata": {},
   "source": [
    "#### Question 2:\n",
    "By K nearest neighbor (KNN) classification, an instance is classified by the majority label among its k nearest neighbors. One issue with identifying the majority label is to break the tie between two labels having equal number of votes. There are several options:\n",
    "* Pick one of the winners at random.\n",
    "* Weight the votes by distance and pick the weighted winner.\n",
    "* Reduce k until we find a unique winner.\n",
    "\n",
    "You are asked to implement from scratch the following function: `majority_vote_weighted(labels, distances)` \n",
    "\n",
    "The function takes as input a list of labels and a list of distances corresponding to the labels. It returns the majority label as follows: (1) assigning a weight to each label by the inverse of its distance, (2) summing up the weights of all the same labels, (3) returning the label with largest average weight (the sum divided by the count of the label), (4) breaking the tie by randomly choosing a label if multiple labels have the same largest average weight. \n",
    "\n",
    "Test the function on sample inputs"
   ]
  },
  {
   "cell_type": "code",
   "execution_count": 46,
   "metadata": {},
   "outputs": [
    {
     "data": {
      "text/plain": [
       "True"
      ]
     },
     "execution_count": 46,
     "metadata": {},
     "output_type": "execute_result"
    }
   ],
   "source": [
    "# some sample data\n",
    "labels = [\"red\", \"green\", \"green\", \"yellow\", \"purple\", \"yellow\", \"red\", \"red\", \"purple\", \"green\"]\n",
    "distances = [0.5, 0.6, 1.2, 2.4, 5, 6, 7.8, 9, 12, 14.5]\n",
    "len(labels) == len(distances)"
   ]
  },
  {
   "cell_type": "code",
   "execution_count": 96,
   "metadata": {},
   "outputs": [
    {
     "name": "stdout",
     "output_type": "stream",
     "text": [
      "The label with the largest average weight is:  green\n"
     ]
    }
   ],
   "source": [
    "import math, random\n",
    "from collections import defaultdict, Counter\n",
    "\n",
    "def majority_vote_weighted(labels, distances):\n",
    "    \"\"\"\n",
    "    Selects the label with largest average weight in terms of the inverse of distances\n",
    "    INPUT:\n",
    "        labels: a list of labels\n",
    "        distances: a list of distances corresponding to the labels\n",
    "    OUTPUT:\n",
    "        the label with highest average weight\n",
    "    \"\"\"\n",
    "    \n",
    "    weights = [1/x for x in distances]\n",
    "    \n",
    "    # this map should hold the mappings from labels to the sum of weights\n",
    "    # label_weight = defaultdict(float)\n",
    "    \n",
    "    # This list should hold the average weight of each unique label\n",
    "    average_weights = []\n",
    "    \n",
    "    # Unique labels\n",
    "    labels_unique = list(set(labels))\n",
    "    \n",
    "    for label in labels_unique:\n",
    "        label_sum_weight = []\n",
    "        count = 0\n",
    "        \n",
    "        for i, j in enumerate(labels):\n",
    "            if j == label:\n",
    "                label_sum_weight.append(weights[i])\n",
    "                count += 1\n",
    "        \n",
    "        # Populate average_weights list\n",
    "        average_weights.append(sum(label_sum_weight)/count)\n",
    "    \n",
    "    # This dictionary holds unique labels with their average weights\n",
    "    label_weight = dict(zip(labels_unique,average_weights))\n",
    "    \n",
    "    # Sort the dictionary on the average weights, in descending order\n",
    "    label_weight = sorted(label_weight.items(), key=lambda item: item[1], reverse=True)\n",
    "    \n",
    "    # List of labels with highest average weight in case there is a tie\n",
    "    highest_labels = [label_weight[i][0] for i in range(len(label_weight)) if label_weight[i][1] == label_weight[0][1]]\n",
    "    \n",
    "    # Randomly pick one\n",
    "    result = random.choice(highest_labels)\n",
    "    \n",
    "    return result\n",
    "        \n",
    "print(\"The label with the largest average weight is: \",majority_vote_weighted(labels, distances))\n",
    "# print(label_weight)\n",
    "# print(highest_labels)"
   ]
  },
  {
   "cell_type": "code",
   "execution_count": null,
   "metadata": {},
   "outputs": [],
   "source": []
  }
 ],
 "metadata": {
  "kernelspec": {
   "display_name": "Python 3",
   "language": "python",
   "name": "python3"
  },
  "language_info": {
   "codemirror_mode": {
    "name": "ipython",
    "version": 3
   },
   "file_extension": ".py",
   "mimetype": "text/x-python",
   "name": "python",
   "nbconvert_exporter": "python",
   "pygments_lexer": "ipython3",
   "version": "3.7.4"
  }
 },
 "nbformat": 4,
 "nbformat_minor": 2
}
